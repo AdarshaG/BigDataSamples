{
 "metadata": {
  "name": "ParallelMCOptions-cluster"
 },
 "nbformat": 3,
 "nbformat_minor": 0,
 "worksheets": [
  {
   "cells": [
    {
     "cell_type": "heading",
     "level": 1,
     "metadata": {},
     "source": [
      "Parallel Monto-Carlo options pricing with IPython"
     ]
    },
    {
     "cell_type": "markdown",
     "metadata": {},
     "source": [
      "In addition to having an interactive console and Notebook web application, IPython has a powerful and high-performance parallel computing framework. This framework is fully integrated with the IPython Notebook, which opens the door for seamless parallel computing, accessible through the browser.\n",
      "\n",
      "The fundamental unit of work in IPython's parallel computing framework (`IPython.parallel`) is the Python function. Once an IPython Cluster has been started, the API of `IPython.parallel` allows Python functions to be scheduled, along with their arguments, to be run in parallel on the Cluster. `IPython.parallel` supports a wide range of scheduling options; this tutorial will illustrate a dynamic load balancing scheduling algorithm.\n",
      "\n",
      "This notebook shows how to use `IPython.parallel` to do Monte-Carlo options pricing in parallel. We will compute the price of a large number of options for different strike prices and volatilities, where each task will consist of computing the option price for a single strike price and volatility."
     ]
    },
    {
     "cell_type": "heading",
     "level": 2,
     "metadata": {},
     "source": [
      "Setup"
     ]
    },
    {
     "cell_type": "markdown",
     "metadata": {},
     "source": [
      "We begin by initializing matplotlib for inline plotting in the notebook."
     ]
    },
    {
     "cell_type": "code",
     "collapsed": false,
     "input": [
      "%pylab inline"
     ],
     "language": "python",
     "metadata": {},
     "outputs": [
      {
       "output_type": "stream",
       "stream": "stdout",
       "text": [
        "\n",
        "Welcome to pylab, a matplotlib-based Python environment [backend: module://IPython.kernel.zmq.pylab.backend_inline].\n",
        "For more information, type 'help(pylab)'.\n"
       ]
      }
     ],
     "prompt_number": 61
    },
    {
     "cell_type": "markdown",
     "metadata": {},
     "source": [
      "A few modules, including `IPython.parallel` need to be imported."
     ]
    },
    {
     "cell_type": "code",
     "collapsed": true,
     "input": [
      "import sys\n",
      "import time\n",
      "from IPython.parallel import Client\n",
      "import numpy as np"
     ],
     "language": "python",
     "metadata": {},
     "outputs": [],
     "prompt_number": 62
    },
    {
     "cell_type": "heading",
     "level": 2,
     "metadata": {},
     "source": [
      "Monte-Carlo option pricing function"
     ]
    },
    {
     "cell_type": "markdown",
     "metadata": {},
     "source": [
      "An [option](http://en.wikipedia.org/wiki/Option_(finance)) is a financial instrument that allows an underlying asset to be bought or sold at an agreed upon price (the strike price) at some date in the future (the expiration date). Computing an appropriate price for an option is a critical part of modern finance and the [Monte-Carlo](http://en.wikipedia.org/wiki/Monte_Carlo_methods_for_option_pricing) method provides one approach for doing this. The following function computes the price of a single option using the Monte-Carlo method.  It returns the call and put prices for both European and Asian style options."
     ]
    },
    {
     "cell_type": "code",
     "collapsed": false,
     "input": [
      "def price_option(S=100.0, K=100.0, sigma=0.25, r=0.05, days=260, paths=100000):\n",
      "    \"\"\"Price European and Asian options using a Monte Carlo method.\n",
      "\n",
      "    Parameters\n",
      "    ----------\n",
      "    S : The initial price of the stock.\n",
      "    K : The strike price of the option.\n",
      "    sigma : The volatility of the stock.\n",
      "    r : The risk free interest rate.\n",
      "    days : The number of days until the option expires.\n",
      "    paths : The number of Monte Carlo paths used to price the option.\n",
      "\n",
      "    Returns\n",
      "    -------\n",
      "    A tuple of (E. call, E. put, A. call, A. put) option prices.\n",
      "    \"\"\"\n",
      "    import numpy as np\n",
      "    from math import exp,sqrt\n",
      "    \n",
      "    h = 1.0/days\n",
      "    const1 = exp((r-0.5*sigma**2)*h)\n",
      "    const2 = sigma*sqrt(h)\n",
      "    stock_price = S*np.ones(paths, dtype='float64')\n",
      "    stock_price_sum = np.zeros(paths, dtype='float64')\n",
      "    for j in range(days):\n",
      "        growth_factor = const1*np.exp(const2*np.random.standard_normal(paths))\n",
      "        stock_price = stock_price*growth_factor\n",
      "        stock_price_sum = stock_price_sum + stock_price\n",
      "    stock_price_avg = stock_price_sum/days\n",
      "    zeros = np.zeros(paths, dtype='float64')\n",
      "    r_factor = exp(-r*h*days)\n",
      "    euro_put = r_factor*np.mean(np.maximum(zeros, K-stock_price))\n",
      "    asian_put = r_factor*np.mean(np.maximum(zeros, K-stock_price_avg))\n",
      "    euro_call = r_factor*np.mean(np.maximum(zeros, stock_price-K))\n",
      "    asian_call = r_factor*np.mean(np.maximum(zeros, stock_price_avg-K))\n",
      "    return (euro_call, euro_put, asian_call, asian_put)"
     ],
     "language": "python",
     "metadata": {},
     "outputs": [],
     "prompt_number": 63
    },
    {
     "cell_type": "markdown",
     "metadata": {},
     "source": [
      "## Parallel computation across strike prices and volatilities"
     ]
    },
    {
     "cell_type": "markdown",
     "metadata": {},
     "source": [
      "We would like to price a large number of options with different strike prices and volatilities.  We will use `IPython.parallel` to load balance this work across a cluster."
     ]
    },
    {
     "cell_type": "markdown",
     "metadata": {},
     "source": [
      "Here are the basic parameters for our computation. The total number of options to be priced is given by `n_sigmas*n_strikes`."
     ]
    },
    {
     "cell_type": "code",
     "collapsed": true,
     "input": [
      "price = 100.0      # Initial price\n",
      "rate = 0.05        # Interest rate\n",
      "days = 260         # Days to expiration\n",
      "paths = 10000      # Number of MC paths\n",
      "n_strikes = 10      # Number of strike values\n",
      "min_strike = 90.0  # Min strike price\n",
      "max_strike = 110.0 # Max strike price\n",
      "n_sigmas = 10       # Number of volatility values\n",
      "min_sigma = 0.1    # Min volatility\n",
      "max_sigma = 0.4    # Max volatility"
     ],
     "language": "python",
     "metadata": {},
     "outputs": [],
     "prompt_number": 64
    },
    {
     "cell_type": "markdown",
     "metadata": {},
     "source": [
      "We create arrays of the different strike prices and volatilities."
     ]
    },
    {
     "cell_type": "code",
     "collapsed": true,
     "input": [
      "strike_vals = np.linspace(min_strike, max_strike, n_strikes)\n",
      "sigma_vals = np.linspace(min_sigma, max_sigma, n_sigmas)"
     ],
     "language": "python",
     "metadata": {},
     "outputs": [],
     "prompt_number": 65
    },
    {
     "cell_type": "code",
     "collapsed": false,
     "input": [
      "print \"Strike prices: \", strike_vals\n",
      "print \"Volatilities: \", sigma_vals"
     ],
     "language": "python",
     "metadata": {},
     "outputs": [
      {
       "output_type": "stream",
       "stream": "stdout",
       "text": [
        "Strike prices:  [  90.           92.22222222   94.44444444   96.66666667   98.88888889\n",
        "  101.11111111  103.33333333  105.55555556  107.77777778  110.        ]\n",
        "Volatilities:  [ 0.1         0.13333333  0.16666667  0.2         0.23333333  0.26666667\n",
        "  0.3         0.33333333  0.36666667  0.4       ]\n"
       ]
      }
     ],
     "prompt_number": 66
    },
    {
     "cell_type": "markdown",
     "metadata": {},
     "source": [
      "A `Client` object is used to communicate with the cluster:"
     ]
    },
    {
     "cell_type": "code",
     "collapsed": true,
     "input": [
      "c = Client(profile=\"nbserver\")"
     ],
     "language": "python",
     "metadata": {},
     "outputs": [
      {
       "ename": "ValueError",
       "evalue": "I can't find enough information to connect to a hub! Please specify at least one of url_file or profile.",
       "output_type": "pyerr",
       "traceback": [
        "\u001b[1;31m---------------------------------------------------------------------------\u001b[0m\n\u001b[1;31mValueError\u001b[0m                                Traceback (most recent call last)",
        "\u001b[1;32m<ipython-input-67-ef64de04d4c1>\u001b[0m in \u001b[0;36m<module>\u001b[1;34m()\u001b[0m\n\u001b[1;32m----> 1\u001b[1;33m \u001b[0mc\u001b[0m \u001b[1;33m=\u001b[0m \u001b[0mClient\u001b[0m\u001b[1;33m(\u001b[0m\u001b[0mprofile\u001b[0m\u001b[1;33m=\u001b[0m\u001b[1;34m\"nb_server\"\u001b[0m\u001b[1;33m)\u001b[0m\u001b[1;33m\u001b[0m\u001b[0m\n\u001b[0m",
        "\u001b[1;32m/usr/local/lib/python2.7/dist-packages/ipython-1.0.dev-py2.7.egg/IPython/parallel/client/client.pyc\u001b[0m in \u001b[0;36m__init__\u001b[1;34m(self, url_file, profile, profile_dir, ipython_dir, context, debug, sshserver, sshkey, password, paramiko, timeout, cluster_id, **extra_args)\u001b[0m\n\u001b[0;32m    403\u001b[0m         \u001b[1;32mif\u001b[0m \u001b[0murl_file\u001b[0m \u001b[1;32mis\u001b[0m \u001b[0mNone\u001b[0m\u001b[1;33m:\u001b[0m\u001b[1;33m\u001b[0m\u001b[0m\n\u001b[0;32m    404\u001b[0m             raise ValueError(\n\u001b[1;32m--> 405\u001b[1;33m                 \u001b[1;34m\"I can't find enough information to connect to a hub!\"\u001b[0m\u001b[1;33m\u001b[0m\u001b[0m\n\u001b[0m\u001b[0;32m    406\u001b[0m                 \u001b[1;34m\" Please specify at least one of url_file or profile.\"\u001b[0m\u001b[1;33m\u001b[0m\u001b[0m\n\u001b[0;32m    407\u001b[0m             )\n",
        "\u001b[1;31mValueError\u001b[0m: I can't find enough information to connect to a hub! Please specify at least one of url_file or profile."
       ]
      }
     ],
     "prompt_number": 67
    },
    {
     "cell_type": "markdown",
     "metadata": {},
     "source": [
      "A `LoadBalancedView` is an interface to the cluster that schedules tasks using dynamic load balancing. We create such a view using the `Client`. We then use the `LoadBalancedView` to submit tasks for each strike price/volatility pair. The task submission is done using the `apply_async` method, which returns an `AsyncResult` object.  We collect these objects for each task and pass them to the `wait` method to wait for the computation to complete. Again, we use the `%%timeit` magic to time the entire computation."
     ]
    },
    {
     "cell_type": "markdown",
     "metadata": {},
     "source": [
      "Here is the calculation using one engine in serial:"
     ]
    },
    {
     "cell_type": "code",
     "collapsed": true,
     "input": [
      "view = c.load_balanced_view(targets=0)"
     ],
     "language": "python",
     "metadata": {},
     "outputs": []
    },
    {
     "cell_type": "code",
     "collapsed": true,
     "input": [
      "%%timeit -n1 -r1\n",
      "\n",
      "global async_results\n",
      "async_results = []\n",
      "for strike in strike_vals:\n",
      "    for sigma in sigma_vals:\n",
      "        # This line submits the tasks for parallel computation.\n",
      "        ar = view.apply_async(price_option, price, strike, sigma, rate, days, paths)\n",
      "        async_results.append(ar)\n",
      "\n",
      "c.wait(async_results)  # Wait until all tasks are done."
     ],
     "language": "python",
     "metadata": {},
     "outputs": []
    },
    {
     "cell_type": "markdown",
     "metadata": {},
     "source": [
      "Here is the same calculation using all the engines in parallel:"
     ]
    },
    {
     "cell_type": "code",
     "collapsed": true,
     "input": [
      "view = c.load_balanced_view()"
     ],
     "language": "python",
     "metadata": {},
     "outputs": []
    },
    {
     "cell_type": "code",
     "collapsed": true,
     "input": [
      "%%timeit -n1 -r1\n",
      "\n",
      "global async_results\n",
      "async_results = []\n",
      "for strike in strike_vals:\n",
      "    for sigma in sigma_vals:\n",
      "        # This line submits the tasks for parallel computation.\n",
      "        ar = view.apply_async(price_option, price, strike, sigma, rate, days, paths)\n",
      "        async_results.append(ar)\n",
      "\n",
      "c.wait(async_results)  # Wait until all tasks are done."
     ],
     "language": "python",
     "metadata": {},
     "outputs": []
    },
    {
     "cell_type": "code",
     "collapsed": false,
     "input": [
      "len(async_results)"
     ],
     "language": "python",
     "metadata": {},
     "outputs": []
    },
    {
     "cell_type": "markdown",
     "metadata": {},
     "source": [
      "## Process and visualize results"
     ]
    },
    {
     "cell_type": "markdown",
     "metadata": {},
     "source": [
      "To view the results, we retrieve the computed option prices using the `AsyncResult.get` method:"
     ]
    },
    {
     "cell_type": "code",
     "collapsed": true,
     "input": [
      "results = [ar.get() for ar in async_results]"
     ],
     "language": "python",
     "metadata": {},
     "outputs": []
    },
    {
     "cell_type": "markdown",
     "metadata": {},
     "source": [
      "Then assemble the results into a structured NumPy array."
     ]
    },
    {
     "cell_type": "code",
     "collapsed": true,
     "input": [
      "prices = np.empty(n_strikes*n_sigmas,\n",
      "    dtype=[('ecall',float),('eput',float),('acall',float),('aput',float)]\n",
      ")\n",
      "\n",
      "for i, price in enumerate(results):\n",
      "    prices[i] = tuple(price)\n",
      "\n",
      "prices.shape = (n_strikes, n_sigmas)"
     ],
     "language": "python",
     "metadata": {},
     "outputs": []
    },
    {
     "cell_type": "markdown",
     "metadata": {},
     "source": [
      "Plot the value of the European call in (volatility, strike) space."
     ]
    },
    {
     "cell_type": "code",
     "collapsed": false,
     "input": [
      "plt.figure()\n",
      "plt.contourf(sigma_vals, strike_vals, prices['ecall'])\n",
      "plt.axis('tight')\n",
      "plt.colorbar()\n",
      "plt.title('European Call')\n",
      "plt.xlabel(\"Volatility\")\n",
      "plt.ylabel(\"Strike Price\")"
     ],
     "language": "python",
     "metadata": {},
     "outputs": []
    },
    {
     "cell_type": "markdown",
     "metadata": {},
     "source": [
      "Plot the value of the Asian call in (volatility, strike) space."
     ]
    },
    {
     "cell_type": "code",
     "collapsed": false,
     "input": [
      "plt.figure()\n",
      "plt.contourf(sigma_vals, strike_vals, prices['acall'])\n",
      "plt.axis('tight')\n",
      "plt.colorbar()\n",
      "plt.title(\"Asian Call\")\n",
      "plt.xlabel(\"Volatility\")\n",
      "plt.ylabel(\"Strike Price\")"
     ],
     "language": "python",
     "metadata": {},
     "outputs": []
    },
    {
     "cell_type": "markdown",
     "metadata": {},
     "source": [
      "Plot the value of the European put in (volatility, strike) space."
     ]
    },
    {
     "cell_type": "code",
     "collapsed": false,
     "input": [
      "plt.figure()\n",
      "plt.contourf(sigma_vals, strike_vals, prices['eput'])\n",
      "plt.axis('tight')\n",
      "plt.colorbar()\n",
      "plt.title(\"European Put\")\n",
      "plt.xlabel(\"Volatility\")\n",
      "plt.ylabel(\"Strike Price\")"
     ],
     "language": "python",
     "metadata": {},
     "outputs": []
    },
    {
     "cell_type": "markdown",
     "metadata": {},
     "source": [
      "Plot the value of the Asian put in (volatility, strike) space."
     ]
    },
    {
     "cell_type": "code",
     "collapsed": false,
     "input": [
      "plt.figure()\n",
      "plt.contourf(sigma_vals, strike_vals, prices['aput'])\n",
      "plt.axis('tight')\n",
      "plt.colorbar()\n",
      "plt.title(\"Asian Put\")\n",
      "plt.xlabel(\"Volatility\")\n",
      "plt.ylabel(\"Strike Price\")"
     ],
     "language": "python",
     "metadata": {},
     "outputs": []
    },
    {
     "cell_type": "heading",
     "level": 2,
     "metadata": {},
     "source": [
      "Conclusion"
     ]
    },
    {
     "cell_type": "markdown",
     "metadata": {},
     "source": [
      "The IPython Notebook and `IPython.parallel` enable you to parallelize your code on a remote cluster using nothing more than a web browser. As this example shows, once you have a Python function that performs a unit of work, it is easy to invoke that function in parallel for different arguments. The example shown here is extremely simple; the full API is rich and powerful.  Details can be found in the [IPython Documentation](http://ipython.org/ipython-doc/stable/parallel/index.html)."
     ]
    }
   ],
   "metadata": {}
  }
 ]
}