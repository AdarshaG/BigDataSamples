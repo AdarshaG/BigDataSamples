{
 "metadata": {
  "name": "SVD Semantic analysis"
 },
 "nbformat": 3,
 "nbformat_minor": 0,
 "worksheets": [
  {
   "cells": [
    {
     "cell_type": "code",
     "collapsed": false,
     "input": [
      "# explained here using SVD to compare words: https://github.com/wenming/BigDataSamples/blob/master/svdsample/SVD%20talk.pdf \n",
      "# Author: Wenming Ye\n",
      "A = array ([( 1.,  0.,  0.,  1.,  0.,  0.,  0.,  0.,  0.),\n",
      "       ( 1.,  0.,  1.,  0.,  0.,  0.,  0.,  0.,  0.),\n",
      "       ( 1.,  1.,  0.,  0.,  0.,  0.,  0.,  0.,  0.),\n",
      "       ( 0.,  1.,  1.,  0.,  1.,  0.,  0.,  0.,  0.),\n",
      "       ( 0.,  1.,  1.,  2.,  0.,  0.,  0.,  0.,  0.),\n",
      "       ( 0.,  1.,  0.,  0.,  1.,  0.,  0.,  0.,  0.),\n",
      "       ( 0.,  1.,  0.,  0.,  1.,  0.,  0.,  0.,  0.),\n",
      "       ( 0.,  0.,  1.,  1.,  0.,  0.,  0.,  0.,  0.),\n",
      "       ( 0.,  1.,  0.,  0.,  0.,  0.,  0.,  0.,  1.),\n",
      "       ( 0.,  0.,  0.,  0.,  0.,  1.,  1.,  1.,  0.),\n",
      "       ( 0.,  0.,  0.,  0.,  0.,  0.,  1.,  1.,  1.),\n",
      "       ( 0.,  0.,  0.,  0.,  0.,  0.,  0.,  1.,  1.)])\n"
     ],
     "language": "python",
     "metadata": {
      "slideshow": {
       "slide_type": "slide"
      }
     },
     "outputs": [],
     "prompt_number": 16
    },
    {
     "cell_type": "code",
     "collapsed": false,
     "input": [
      "U,sigma,V = svd(A)"
     ],
     "language": "python",
     "metadata": {},
     "outputs": [],
     "prompt_number": 17
    },
    {
     "cell_type": "code",
     "collapsed": false,
     "input": [
      "Sigma = zeros_like(A)"
     ],
     "language": "python",
     "metadata": {},
     "outputs": [],
     "prompt_number": 18
    },
    {
     "cell_type": "code",
     "collapsed": false,
     "input": [
      "n = min(A.shape)"
     ],
     "language": "python",
     "metadata": {},
     "outputs": [],
     "prompt_number": 19
    },
    {
     "cell_type": "code",
     "collapsed": false,
     "input": [
      "Sigma[:n,:n] = diag(sigma)\n"
     ],
     "language": "python",
     "metadata": {},
     "outputs": [],
     "prompt_number": 5
    },
    {
     "cell_type": "code",
     "collapsed": false,
     "input": [
      "U2=U[:,:2]"
     ],
     "language": "python",
     "metadata": {},
     "outputs": [],
     "prompt_number": 6
    },
    {
     "cell_type": "code",
     "collapsed": false,
     "input": [
      "S2=Sigma[:2,:2]"
     ],
     "language": "python",
     "metadata": {},
     "outputs": [],
     "prompt_number": 7
    },
    {
     "cell_type": "code",
     "collapsed": false,
     "input": [
      "V=transpose(V)"
     ],
     "language": "python",
     "metadata": {},
     "outputs": [],
     "prompt_number": 8
    },
    {
     "cell_type": "code",
     "collapsed": false,
     "input": [
      "V2=V[:,:2]"
     ],
     "language": "python",
     "metadata": {},
     "outputs": [],
     "prompt_number": 9
    },
    {
     "cell_type": "code",
     "collapsed": false,
     "input": [
      "A2=dot(U2,dot(S2,transpose(V2)))"
     ],
     "language": "python",
     "metadata": {},
     "outputs": [],
     "prompt_number": 10
    },
    {
     "cell_type": "code",
     "collapsed": false,
     "input": [
      "print A2[1,:]"
     ],
     "language": "python",
     "metadata": {},
     "outputs": [
      {
       "output_type": "stream",
       "stream": "stdout",
       "text": [
        "[ 0.14058529  0.36980077  0.32899603  0.40042722  0.16497247 -0.03281545\n",
        " -0.07056857 -0.09676827 -0.04298073]\n"
       ]
      }
     ],
     "prompt_number": 11
    },
    {
     "cell_type": "code",
     "collapsed": false,
     "input": [
      "print A2[4,:]"
     ],
     "language": "python",
     "metadata": {},
     "outputs": [
      {
       "output_type": "stream",
       "stream": "stdout",
       "text": [
        "[ 0.44878975  1.23436483  1.0508615   1.26579559  0.55633139 -0.07378998\n",
        " -0.15469383 -0.20959816 -0.04887954]\n"
       ]
      }
     ],
     "prompt_number": 12
    },
    {
     "cell_type": "code",
     "collapsed": false,
     "input": [
      "print \"relation between human and user: \",   dot(A2[0,:],A2[ 3,:])/linalg.norm(A2[0,:])/linalg.norm(A2[ 3,:])   "
     ],
     "language": "python",
     "metadata": {},
     "outputs": [
      {
       "output_type": "stream",
       "stream": "stdout",
       "text": [
        "relation between human and user:  0.887845828743\n"
       ]
      }
     ],
     "prompt_number": 13
    },
    {
     "cell_type": "code",
     "collapsed": false,
     "input": [
      "print \"relation between human and minor: \", dot(A2[0,:],A2[11,:])/linalg.norm(A2[0,:])/linalg.norm(A2[11,:]) "
     ],
     "language": "python",
     "metadata": {},
     "outputs": [
      {
       "output_type": "stream",
       "stream": "stdout",
       "text": [
        "relation between human and minor:  -0.275008144382\n"
       ]
      }
     ],
     "prompt_number": 14
    },
    {
     "cell_type": "code",
     "collapsed": false,
     "input": [
      "dot(A2[9,:],A2[10,:])/linalg.norm(A2[9,:])/linalg.norm(A2[10,:])"
     ],
     "language": "python",
     "metadata": {},
     "outputs": [
      {
       "output_type": "pyout",
       "prompt_number": 15,
       "text": [
        "0.99912012121741589"
       ]
      }
     ],
     "prompt_number": 15
    },
    {
     "cell_type": "code",
     "collapsed": false,
     "input": [],
     "language": "python",
     "metadata": {},
     "outputs": [],
     "prompt_number": 15
    },
    {
     "cell_type": "code",
     "collapsed": false,
     "input": [],
     "language": "python",
     "metadata": {},
     "outputs": []
    }
   ],
   "metadata": {}
  }
 ]
}